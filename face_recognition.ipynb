{
 "cells": [
  {
   "cell_type": "markdown",
   "metadata": {
    "colab_type": "text",
    "id": "3DR-eO17geWu"
   },
   "source": [
    "# Face Recognition"
   ]
  },
  {
   "cell_type": "markdown",
   "metadata": {
    "colab_type": "text",
    "id": "EMefrVPCg-60"
   },
   "source": [
    "### Importing the libraries"
   ]
  },
  {
   "cell_type": "code",
   "execution_count": 2,
   "metadata": {
    "colab": {},
    "colab_type": "code",
    "id": "sCV30xyVhFbE"
   },
   "outputs": [],
   "source": [
    "import tensorflow as tf\n",
    "from keras.preprocessing.image import ImageDataGenerator\n",
    "from tensorflow.keras.optimizers import RMSprop"
   ]
  },
  {
   "cell_type": "code",
   "execution_count": 3,
   "metadata": {
    "colab": {},
    "colab_type": "code",
    "id": "FIleuCAjoFD8"
   },
   "outputs": [
    {
     "data": {
      "text/plain": [
       "'2.3.0'"
      ]
     },
     "execution_count": 3,
     "metadata": {},
     "output_type": "execute_result"
    }
   ],
   "source": [
    "tf.__version__"
   ]
  },
  {
   "cell_type": "markdown",
   "metadata": {
    "colab_type": "text",
    "id": "oxQxCBWyoGPE"
   },
   "source": [
    "## Data Preprocessing"
   ]
  },
  {
   "cell_type": "markdown",
   "metadata": {
    "colab_type": "text",
    "id": "MvE-heJNo3GG"
   },
   "source": [
    "### Preprocessing the Training set"
   ]
  },
  {
   "cell_type": "code",
   "execution_count": 4,
   "metadata": {
    "colab": {},
    "colab_type": "code",
    "id": "0koUcJMJpEBD"
   },
   "outputs": [
    {
     "name": "stdout",
     "output_type": "stream",
     "text": [
      "Found 75 images belonging to 3 classes.\n"
     ]
    }
   ],
   "source": [
    "train_datagen = ImageDataGenerator(rescale = 1./255,\n",
    "                                   shear_range = 0.2,\n",
    "                                   zoom_range = 0.2,\n",
    "                                   horizontal_flip = True)\n",
    "training_set = train_datagen.flow_from_directory('dataset_celebs/training_set',\n",
    "                                                 target_size = (64, 64),\n",
    "                                                 batch_size = 32,\n",
    "                                                 class_mode = 'categorical')"
   ]
  },
  {
   "cell_type": "markdown",
   "metadata": {
    "colab_type": "text",
    "id": "mrCMmGw9pHys"
   },
   "source": [
    "### Preprocessing the Test set"
   ]
  },
  {
   "cell_type": "code",
   "execution_count": 5,
   "metadata": {
    "colab": {},
    "colab_type": "code",
    "id": "SH4WzfOhpKc3"
   },
   "outputs": [
    {
     "name": "stdout",
     "output_type": "stream",
     "text": [
      "Found 12 images belonging to 3 classes.\n"
     ]
    }
   ],
   "source": [
    "test_datagen = ImageDataGenerator(rescale = 1./255)\n",
    "test_set = test_datagen.flow_from_directory('dataset_celebs/test_set',\n",
    "                                            target_size = (64, 64),\n",
    "                                            batch_size = 32,\n",
    "                                            class_mode = 'categorical')"
   ]
  },
  {
   "cell_type": "markdown",
   "metadata": {},
   "source": [
    "### Transfer Learning"
   ]
  },
  {
   "cell_type": "code",
   "execution_count": 6,
   "metadata": {},
   "outputs": [
    {
     "name": "stdout",
     "output_type": "stream",
     "text": [
      "Model: \"sequential\"\n",
      "_________________________________________________________________\n",
      "Layer (type)                 Output Shape              Param #   \n",
      "=================================================================\n",
      "vgg19 (Functional)           (None, 2, 2, 512)         20024384  \n",
      "_________________________________________________________________\n",
      "max_pooling2d (MaxPooling2D) (None, 1, 1, 512)         0         \n",
      "_________________________________________________________________\n",
      "dense (Dense)                (None, 1, 1, 1024)        525312    \n",
      "_________________________________________________________________\n",
      "dense_1 (Dense)              (None, 1, 1, 512)         524800    \n",
      "_________________________________________________________________\n",
      "dense_2 (Dense)              (None, 1, 1, 248)         127224    \n",
      "_________________________________________________________________\n",
      "flatten (Flatten)            (None, 248)               0         \n",
      "_________________________________________________________________\n",
      "dense_3 (Dense)              (None, 3)                 747       \n",
      "=================================================================\n",
      "Total params: 21,202,467\n",
      "Trainable params: 1,178,083\n",
      "Non-trainable params: 20,024,384\n",
      "_________________________________________________________________\n",
      "Epoch 1/25\n",
      "3/3 [==============================] - 8s 3s/step - loss: 1.4205 - accuracy: 0.3333 - val_loss: 1.0857 - val_accuracy: 0.3333\n",
      "Epoch 2/25\n",
      "3/3 [==============================] - 7s 2s/step - loss: 1.0860 - accuracy: 0.2800 - val_loss: 1.0217 - val_accuracy: 0.4167\n",
      "Epoch 3/25\n",
      "3/3 [==============================] - 6s 2s/step - loss: 0.9486 - accuracy: 0.5333 - val_loss: 0.9789 - val_accuracy: 0.5000\n",
      "Epoch 4/25\n",
      "3/3 [==============================] - 5s 2s/step - loss: 0.8777 - accuracy: 0.6933 - val_loss: 0.9608 - val_accuracy: 0.4167\n",
      "Epoch 5/25\n",
      "3/3 [==============================] - 3s 1s/step - loss: 0.8222 - accuracy: 0.6933 - val_loss: 0.9566 - val_accuracy: 0.5833\n",
      "Epoch 6/25\n",
      "3/3 [==============================] - 4s 1s/step - loss: 0.7916 - accuracy: 0.7333 - val_loss: 1.0055 - val_accuracy: 0.5833\n",
      "Epoch 7/25\n",
      "3/3 [==============================] - 6s 2s/step - loss: 0.6968 - accuracy: 0.7333 - val_loss: 1.3228 - val_accuracy: 0.4167\n",
      "Epoch 8/25\n",
      "3/3 [==============================] - 6s 2s/step - loss: 0.7685 - accuracy: 0.5867 - val_loss: 0.9995 - val_accuracy: 0.5000\n",
      "Epoch 9/25\n",
      "3/3 [==============================] - 7s 2s/step - loss: 0.6730 - accuracy: 0.7200 - val_loss: 0.9985 - val_accuracy: 0.4167\n",
      "Epoch 10/25\n",
      "3/3 [==============================] - 6s 2s/step - loss: 0.7138 - accuracy: 0.6800 - val_loss: 1.0501 - val_accuracy: 0.5000\n",
      "Epoch 11/25\n",
      "3/3 [==============================] - 6s 2s/step - loss: 0.5558 - accuracy: 0.8267 - val_loss: 0.9184 - val_accuracy: 0.4167\n",
      "Epoch 12/25\n",
      "3/3 [==============================] - 5s 2s/step - loss: 0.5382 - accuracy: 0.8000 - val_loss: 0.9621 - val_accuracy: 0.4167\n",
      "Epoch 13/25\n",
      "3/3 [==============================] - 8s 3s/step - loss: 0.7647 - accuracy: 0.6267 - val_loss: 1.0556 - val_accuracy: 0.3333\n",
      "Epoch 14/25\n",
      "3/3 [==============================] - 7s 2s/step - loss: 0.4950 - accuracy: 0.8667 - val_loss: 1.0495 - val_accuracy: 0.5000\n",
      "Epoch 15/25\n",
      "3/3 [==============================] - 6s 2s/step - loss: 0.4744 - accuracy: 0.8400 - val_loss: 0.9667 - val_accuracy: 0.5833\n",
      "Epoch 16/25\n",
      "3/3 [==============================] - 5s 2s/step - loss: 0.5156 - accuracy: 0.8133 - val_loss: 1.2158 - val_accuracy: 0.5000\n",
      "Epoch 17/25\n",
      "3/3 [==============================] - 5s 2s/step - loss: 0.4081 - accuracy: 0.8533 - val_loss: 0.9699 - val_accuracy: 0.5833\n",
      "Epoch 18/25\n",
      "3/3 [==============================] - 6s 2s/step - loss: 0.4055 - accuracy: 0.8933 - val_loss: 1.0718 - val_accuracy: 0.5833\n",
      "Epoch 19/25\n",
      "3/3 [==============================] - 7s 2s/step - loss: 0.5400 - accuracy: 0.7733 - val_loss: 0.8643 - val_accuracy: 0.3333\n",
      "Epoch 20/25\n",
      "3/3 [==============================] - 5s 2s/step - loss: 0.3084 - accuracy: 0.9333 - val_loss: 0.9599 - val_accuracy: 0.5833\n",
      "Epoch 21/25\n",
      "3/3 [==============================] - 6s 2s/step - loss: 0.3420 - accuracy: 0.8667 - val_loss: 1.1905 - val_accuracy: 0.5833\n",
      "Epoch 22/25\n",
      "3/3 [==============================] - 6s 2s/step - loss: 0.2684 - accuracy: 0.9333 - val_loss: 1.3297 - val_accuracy: 0.5000\n",
      "Epoch 23/25\n",
      "3/3 [==============================] - 6s 2s/step - loss: 0.3672 - accuracy: 0.8667 - val_loss: 0.9611 - val_accuracy: 0.5833\n",
      "Epoch 24/25\n",
      "3/3 [==============================] - 8s 3s/step - loss: 0.2538 - accuracy: 0.9867 - val_loss: 1.0679 - val_accuracy: 0.5833\n",
      "Epoch 25/25\n",
      "3/3 [==============================] - 8s 3s/step - loss: 0.2590 - accuracy: 0.9467 - val_loss: 0.9888 - val_accuracy: 0.4167\n"
     ]
    },
    {
     "data": {
      "text/plain": [
       "<tensorflow.python.keras.callbacks.History at 0x2ad6a282688>"
      ]
     },
     "execution_count": 6,
     "metadata": {},
     "output_type": "execute_result"
    }
   ],
   "source": [
    "from keras.applications import VGG19\n",
    "base_model = VGG19(include_top = False, input_shape = (64,64,3), classes = 3)\n",
    "for layers in base_model.layers:\n",
    "    layers.trainable=False    \n",
    "model= tf.keras.models.Sequential()\n",
    "model.add(base_model)\n",
    "model.add(tf.keras.layers.MaxPooling2D())\n",
    "model.add(tf.keras.layers.Dense(1024,activation='relu'))\n",
    "model.add(tf.keras.layers.Dense(512,activation='relu'))\n",
    "model.add(tf.keras.layers.Dense(248,activation='relu'))\n",
    "model.add(tf.keras.layers.Flatten())\n",
    "model.add(tf.keras.layers.Dense(units=3, activation='softmax'))\n",
    "\n",
    "model.summary()\n",
    "model.compile(optimizer = RMSprop(lr=2e-4), loss = 'categorical_crossentropy', metrics = ['accuracy'])\n",
    "model.fit(x = training_set, validation_data = test_set, epochs = 25)"
   ]
  },
  {
   "cell_type": "markdown",
   "metadata": {},
   "source": [
    "### Saving Model"
   ]
  },
  {
   "cell_type": "code",
   "execution_count": 9,
   "metadata": {},
   "outputs": [
    {
     "name": "stdout",
     "output_type": "stream",
     "text": [
      "WARNING:tensorflow:From C:\\ProgramData\\Anaconda3\\lib\\site-packages\\tensorflow\\python\\training\\tracking\\tracking.py:111: Model.state_updates (from tensorflow.python.keras.engine.training) is deprecated and will be removed in a future version.\n",
      "Instructions for updating:\n",
      "This property should not be used in TensorFlow 2.0, as updates are applied automatically.\n",
      "WARNING:tensorflow:From C:\\ProgramData\\Anaconda3\\lib\\site-packages\\tensorflow\\python\\training\\tracking\\tracking.py:111: Layer.updates (from tensorflow.python.keras.engine.base_layer) is deprecated and will be removed in a future version.\n",
      "Instructions for updating:\n",
      "This property should not be used in TensorFlow 2.0, as updates are applied automatically.\n",
      "INFO:tensorflow:Assets written to: transfer_learning\\assets\n"
     ]
    }
   ],
   "source": [
    "model.save('transfer_learning')"
   ]
  },
  {
   "cell_type": "markdown",
   "metadata": {},
   "source": [
    "### Load Model"
   ]
  },
  {
   "cell_type": "code",
   "execution_count": null,
   "metadata": {},
   "outputs": [],
   "source": [
    "model = tf.keras.models.load_model('transfer_learning')"
   ]
  },
  {
   "cell_type": "markdown",
   "metadata": {
    "colab_type": "text",
    "id": "af8O4l90gk7B"
   },
   "source": [
    "## Building own CNN"
   ]
  },
  {
   "cell_type": "code",
   "execution_count": null,
   "metadata": {
    "colab": {},
    "colab_type": "code",
    "id": "SAUt4UMPlhLS"
   },
   "outputs": [],
   "source": [
    "cnn = tf.keras.models.Sequential()\n",
    "cnn.add(tf.keras.layers.Conv2D(filters=32, kernel_size=3, activation='relu', input_shape=[64, 64, 3]))\n",
    "cnn.add(tf.keras.layers.MaxPool2D(pool_size=2, strides=2))\n",
    "cnn.add(tf.keras.layers.Conv2D(filters=32, kernel_size=3, activation='relu'))\n",
    "cnn.add(tf.keras.layers.MaxPool2D(pool_size=2, strides=2))\n",
    "cnn.add(tf.keras.layers.Flatten())\n",
    "cnn.add(tf.keras.layers.Dense(units=128, activation='relu'))\n",
    "cnn.add(tf.keras.layers.Dense(units=3, activation='softmax'))\n",
    "cnn.compile(optimizer = 'adam', loss = 'categorical_crossentropy', metrics = ['accuracy'])\n",
    "cnn.fit(x = training_set, validation_data = test_set, epochs = 10)"
   ]
  },
  {
   "cell_type": "markdown",
   "metadata": {},
   "source": [
    "### Saving Model"
   ]
  },
  {
   "cell_type": "code",
   "execution_count": null,
   "metadata": {},
   "outputs": [],
   "source": [
    "cnn.save('cnn')"
   ]
  },
  {
   "cell_type": "markdown",
   "metadata": {},
   "source": [
    "### Loading Model"
   ]
  },
  {
   "cell_type": "code",
   "execution_count": null,
   "metadata": {},
   "outputs": [],
   "source": [
    "model = tf.keras.models.load_model('cnn')"
   ]
  },
  {
   "cell_type": "markdown",
   "metadata": {
    "colab_type": "text",
    "id": "U3PZasO0006Z"
   },
   "source": [
    "## Making a single prediction"
   ]
  },
  {
   "cell_type": "code",
   "execution_count": 8,
   "metadata": {
    "colab": {},
    "colab_type": "code",
    "id": "gsSiWEJY1BPB"
   },
   "outputs": [
    {
     "name": "stdout",
     "output_type": "stream",
     "text": [
      "['daniel_radcliff']\n"
     ]
    }
   ],
   "source": [
    "import numpy as np\n",
    "from keras.preprocessing import image\n",
    "test_image = image.load_img('dataset_celebs/single_prediction/d.jpg', target_size = (64, 64))\n",
    "test_image = image.img_to_array(test_image)\n",
    "test_image = np.expand_dims(test_image, axis = 0)\n",
    "result = model.predict(test_image)\n",
    "#print(result)\n",
    "\n",
    "predicted_class_indices=np.argmax(result,axis=1)\n",
    "#print(predicted_class_indices)\n",
    "\n",
    "labels = (training_set.class_indices)\n",
    "#print(labels.items())\n",
    "\n",
    "labels = dict((v,k) for k,v in labels.items())\n",
    "#print(labels)\n",
    "\n",
    "predictions = [labels[k] for k in predicted_class_indices]\n",
    "print(predictions)"
   ]
  },
  {
   "cell_type": "code",
   "execution_count": null,
   "metadata": {},
   "outputs": [],
   "source": [
    "from PIL import Image\n",
    "import cv2\n",
    "import numpy as np\n",
    "from keras.preprocessing import image\n",
    "\n",
    "face_cascade = cv2.CascadeClassifier('haarcascade_frontalface_default.xml')\n",
    "\n",
    "video_capture = cv2.VideoCapture(0)\n",
    "while True:\n",
    "    _, frame = video_capture.read()\n",
    "    faces = face_cascade.detectMultiScale(frame, 1.3, 5)\n",
    "    if faces is ():\n",
    "        cv2.putText(frame,'No face found', (50, 50), cv2.FONT_HERSHEY_COMPLEX, 1, (255,255,0), 2)\n",
    "    for (x,y,w,h) in faces:\n",
    "        cv2.rectangle(frame,(x,y),(x+w,y+h),(0,255,255),2)\n",
    "        face = frame[y:y+h, x:x+w]\n",
    "\n",
    "        if type(face) is np.ndarray:\n",
    "            face = cv2.resize(face, (64, 64))\n",
    "            face = image.img_to_array(face)\n",
    "            face = np.expand_dims(face, axis = 0)\n",
    "            result = model.predict(face)\n",
    "            predicted_class_indices=np.argmax(result,axis=1)\n",
    "            labels = (training_set.class_indices)\n",
    "            labels = dict((v,k) for k,v in labels.items())\n",
    "            predictions = [labels[k] for k in predicted_class_indices]\n",
    "            print(predictions)\n",
    "            name=predictions[0]\n",
    "        \n",
    "            if(name):\n",
    "                cv2.rectangle(frame,(x,y-12),(x+w,y+12),(0,255,255),-1)\n",
    "                cv2.putText(frame,name, (x, y), cv2.FONT_HERSHEY_COMPLEX, 0.5, (0,0,0), 1)\n",
    "    cv2.imshow('Video', frame)\n",
    "    if cv2.waitKey(1) & 0xFF == ord('q'):\n",
    "        break\n",
    "video_capture.release()\n",
    "cv2.destroyAllWindows()"
   ]
  },
  {
   "cell_type": "code",
   "execution_count": null,
   "metadata": {},
   "outputs": [],
   "source": []
  }
 ],
 "metadata": {
  "colab": {
   "authorship_tag": "ABX9TyON0YxX/oky4tPbqCLnFjWD",
   "collapsed_sections": [],
   "name": "convolutional_neural_network.ipynb",
   "provenance": [],
   "toc_visible": true
  },
  "kernelspec": {
   "display_name": "Python 3",
   "language": "python",
   "name": "python3"
  },
  "language_info": {
   "codemirror_mode": {
    "name": "ipython",
    "version": 3
   },
   "file_extension": ".py",
   "mimetype": "text/x-python",
   "name": "python",
   "nbconvert_exporter": "python",
   "pygments_lexer": "ipython3",
   "version": "3.7.6"
  }
 },
 "nbformat": 4,
 "nbformat_minor": 1
}
